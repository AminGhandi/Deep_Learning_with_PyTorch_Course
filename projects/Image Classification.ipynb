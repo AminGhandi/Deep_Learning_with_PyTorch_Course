{
 "cells": [
  {
   "cell_type": "markdown",
   "id": "361496f1",
   "metadata": {},
   "source": [
    "# Defining the Problem\n"
   ]
  },
  {
   "cell_type": "markdown",
   "id": "93498976",
   "metadata": {},
   "source": [
    "### We will be checking x-ray images of lungs and classifying them, with the help of computer vision modeling techniques, as either having pneumonia or being normal. Since this is a healthcare problem it is always best to let the model overpredict. We need to predict with the highest form of accuracy and should have nearly 100% recall if possible, with a high precision score as well. We need to be sure to diagnose any possible case of infection and not misclassify an infected lung as healthy because of small margins. Softmax logits can often be used to determine the prediction rather than a softmax function deciding the class. This is a critical decision based on experience with the data as well as the behavior of the model."
   ]
  },
  {
   "cell_type": "markdown",
   "id": "3ca06012",
   "metadata": {},
   "source": [
    "## Data\n",
    "\n",
    "### In this problem set, we use open source data, which can be found at https://www.kaggle.com/tolgadincer/labeled-chest-xray-images"
   ]
  },
  {
   "cell_type": "markdown",
   "id": "8af9cdfa",
   "metadata": {},
   "source": [
    "## Libraries"
   ]
  },
  {
   "cell_type": "code",
   "execution_count": null,
   "id": "50933aae",
   "metadata": {},
   "outputs": [],
   "source": [
    "import os\n",
    "import numpy as np\n",
    "import cv2\n",
    "import matplotlib.pyplot as plt\n",
    "import matplotlib.image as mpimg\n",
    "%matplotlib inline\n",
    "from PIL import Image\n",
    "from IPython.display import display\n",
    "import torch\n",
    "import torch.nn as nn\n",
    "from torch.utils.data import DataLoader\n",
    "import torch.nn.functional as F\n",
    "from torchvision import datasets, transforms, models\n",
    "from torch.optim.lr_scheduler import StepLR\n",
    "from torchsummary import summary\n",
    "from tqdm import tqdm"
   ]
  }
 ],
 "metadata": {
  "kernelspec": {
   "display_name": "Python 3 (ipykernel)",
   "language": "python",
   "name": "python3"
  },
  "language_info": {
   "codemirror_mode": {
    "name": "ipython",
    "version": 3
   },
   "file_extension": ".py",
   "mimetype": "text/x-python",
   "name": "python",
   "nbconvert_exporter": "python",
   "pygments_lexer": "ipython3",
   "version": "3.9.16"
  }
 },
 "nbformat": 4,
 "nbformat_minor": 5
}
